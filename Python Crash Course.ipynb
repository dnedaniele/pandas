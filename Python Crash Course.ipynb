{
 "cells": [
  {
   "cell_type": "markdown",
   "id": "2691a0fe",
   "metadata": {},
   "source": [
    "Data Types"
   ]
  },
  {
   "cell_type": "code",
   "execution_count": null,
   "id": "94fee756",
   "metadata": {},
   "outputs": [],
   "source": [
    "1 , 59 123 #Integers"
   ]
  },
  {
   "cell_type": "code",
   "execution_count": 1,
   "id": "56f92278",
   "metadata": {},
   "outputs": [
    {
     "data": {
      "text/plain": [
       "9.99"
      ]
     },
     "execution_count": 1,
     "metadata": {},
     "output_type": "execute_result"
    }
   ],
   "source": [
    "1.3\n",
    "4.8\n",
    "9.99 #floating numbers"
   ]
  },
  {
   "cell_type": "code",
   "execution_count": 2,
   "id": "10308dfe",
   "metadata": {
    "scrolled": true
   },
   "outputs": [
    {
     "data": {
      "text/plain": [
       "'hello world'"
      ]
     },
     "execution_count": 2,
     "metadata": {},
     "output_type": "execute_result"
    }
   ],
   "source": [
    "\"hello world\" #Strings "
   ]
  },
  {
   "cell_type": "markdown",
   "id": "9618f38c",
   "metadata": {},
   "source": [
    "True   #Boolean \n",
    "False"
   ]
  },
  {
   "cell_type": "code",
   "execution_count": 3,
   "id": "86d088f7",
   "metadata": {},
   "outputs": [
    {
     "data": {
      "text/plain": [
       "True"
      ]
     },
     "execution_count": 3,
     "metadata": {},
     "output_type": "execute_result"
    }
   ],
   "source": [
    "1 == 1"
   ]
  },
  {
   "cell_type": "code",
   "execution_count": 3,
   "id": "25206332",
   "metadata": {},
   "outputs": [
    {
     "data": {
      "text/plain": [
       "False"
      ]
     },
     "execution_count": 3,
     "metadata": {},
     "output_type": "execute_result"
    }
   ],
   "source": [
    "23 > 98"
   ]
  },
  {
   "cell_type": "code",
   "execution_count": 4,
   "id": "325c731e",
   "metadata": {},
   "outputs": [
    {
     "data": {
      "text/plain": [
       "True"
      ]
     },
     "execution_count": 4,
     "metadata": {},
     "output_type": "execute_result"
    }
   ],
   "source": [
    "20 >= 12"
   ]
  },
  {
   "cell_type": "code",
   "execution_count": 5,
   "id": "70f3e421",
   "metadata": {},
   "outputs": [
    {
     "data": {
      "text/plain": [
       "True"
      ]
     },
     "execution_count": 5,
     "metadata": {},
     "output_type": "execute_result"
    }
   ],
   "source": [
    "5 <= 19"
   ]
  },
  {
   "cell_type": "code",
   "execution_count": 7,
   "id": "59fa95ec",
   "metadata": {},
   "outputs": [
    {
     "data": {
      "text/plain": [
       "True"
      ]
     },
     "execution_count": 7,
     "metadata": {},
     "output_type": "execute_result"
    }
   ],
   "source": [
    "5 != 6"
   ]
  },
  {
   "cell_type": "code",
   "execution_count": 9,
   "id": "37c6decc",
   "metadata": {},
   "outputs": [
    {
     "data": {
      "text/plain": [
       "False"
      ]
     },
     "execution_count": 9,
     "metadata": {},
     "output_type": "execute_result"
    }
   ],
   "source": [
    "5 == \"5\""
   ]
  },
  {
   "cell_type": "code",
   "execution_count": 6,
   "id": "83bfd713",
   "metadata": {},
   "outputs": [],
   "source": [
    "None "
   ]
  },
  {
   "cell_type": "code",
   "execution_count": 5,
   "id": "998f7da6",
   "metadata": {},
   "outputs": [
    {
     "data": {
      "text/plain": [
       "'Molotov - Von Ribbentrop'"
      ]
     },
     "execution_count": 5,
     "metadata": {},
     "output_type": "execute_result"
    }
   ],
   "source": [
    "#concatenation\n",
    "\"Molotov - \" + \"Von Ribbentrop\""
   ]
  },
  {
   "cell_type": "code",
   "execution_count": null,
   "id": "270efa9e",
   "metadata": {},
   "outputs": [],
   "source": []
  },
  {
   "cell_type": "code",
   "execution_count": 6,
   "id": "361b9502",
   "metadata": {},
   "outputs": [
    {
     "data": {
      "text/plain": [
       "'danieledanieledanieledaniele'"
      ]
     },
     "execution_count": 6,
     "metadata": {},
     "output_type": "execute_result"
    }
   ],
   "source": [
    "\"daniele\" * 4"
   ]
  },
  {
   "cell_type": "code",
   "execution_count": 7,
   "id": "79b7c64d",
   "metadata": {},
   "outputs": [
    {
     "data": {
      "text/plain": [
       "23"
      ]
     },
     "execution_count": 7,
     "metadata": {},
     "output_type": "execute_result"
    }
   ],
   "source": [
    "3 + 4 * 5"
   ]
  },
  {
   "cell_type": "code",
   "execution_count": 8,
   "id": "f1a90f0c",
   "metadata": {},
   "outputs": [
    {
     "data": {
      "text/plain": [
       "3"
      ]
     },
     "execution_count": 8,
     "metadata": {},
     "output_type": "execute_result"
    }
   ],
   "source": [
    "10 // 3"
   ]
  },
  {
   "cell_type": "code",
   "execution_count": 9,
   "id": "b8eb008b",
   "metadata": {},
   "outputs": [
    {
     "data": {
      "text/plain": [
       "3.3333333333333335"
      ]
     },
     "execution_count": 9,
     "metadata": {},
     "output_type": "execute_result"
    }
   ],
   "source": [
    "10 / 3"
   ]
  },
  {
   "cell_type": "code",
   "execution_count": 10,
   "id": "597b1ce1",
   "metadata": {},
   "outputs": [
    {
     "data": {
      "text/plain": [
       "3"
      ]
     },
     "execution_count": 10,
     "metadata": {},
     "output_type": "execute_result"
    }
   ],
   "source": [
    "347 % 4"
   ]
  },
  {
   "cell_type": "code",
   "execution_count": 11,
   "id": "54436177",
   "metadata": {},
   "outputs": [
    {
     "name": "stdout",
     "output_type": "stream",
     "text": [
      "daniele\n"
     ]
    }
   ],
   "source": [
    "print(\"daniele\")"
   ]
  },
  {
   "cell_type": "code",
   "execution_count": 12,
   "id": "b52c66d1",
   "metadata": {},
   "outputs": [
    {
     "data": {
      "text/plain": [
       "True"
      ]
     },
     "execution_count": 12,
     "metadata": {},
     "output_type": "execute_result"
    }
   ],
   "source": [
    "5 == 5.0"
   ]
  },
  {
   "cell_type": "code",
   "execution_count": 13,
   "id": "c68a7fec",
   "metadata": {},
   "outputs": [
    {
     "data": {
      "text/plain": [
       "int"
      ]
     },
     "execution_count": 13,
     "metadata": {},
     "output_type": "execute_result"
    }
   ],
   "source": [
    "type(5)"
   ]
  },
  {
   "cell_type": "code",
   "execution_count": 14,
   "id": "385f06a1",
   "metadata": {},
   "outputs": [
    {
     "data": {
      "text/plain": [
       "False"
      ]
     },
     "execution_count": 14,
     "metadata": {},
     "output_type": "execute_result"
    }
   ],
   "source": [
    "\"daniele\" == \"Daniele\""
   ]
  },
  {
   "cell_type": "code",
   "execution_count": 15,
   "id": "3daa17a2",
   "metadata": {},
   "outputs": [
    {
     "data": {
      "text/plain": [
       "True"
      ]
     },
     "execution_count": 15,
     "metadata": {},
     "output_type": "execute_result"
    }
   ],
   "source": [
    "5 != 6"
   ]
  },
  {
   "cell_type": "code",
   "execution_count": 17,
   "id": "885c278f",
   "metadata": {},
   "outputs": [
    {
     "data": {
      "text/plain": [
       "True"
      ]
     },
     "execution_count": 17,
     "metadata": {},
     "output_type": "execute_result"
    }
   ],
   "source": [
    "0 == 1*0"
   ]
  },
  {
   "cell_type": "code",
   "execution_count": 18,
   "id": "69657870",
   "metadata": {},
   "outputs": [
    {
     "data": {
      "text/plain": [
       "True"
      ]
     },
     "execution_count": 18,
     "metadata": {},
     "output_type": "execute_result"
    }
   ],
   "source": [
    "20 >= 12"
   ]
  },
  {
   "cell_type": "code",
   "execution_count": 19,
   "id": "c25f8d07",
   "metadata": {},
   "outputs": [
    {
     "data": {
      "text/plain": [
       "False"
      ]
     },
     "execution_count": 19,
     "metadata": {},
     "output_type": "execute_result"
    }
   ],
   "source": [
    "6 >= 7"
   ]
  },
  {
   "cell_type": "code",
   "execution_count": 21,
   "id": "e09db7b3",
   "metadata": {},
   "outputs": [],
   "source": [
    "age = 29"
   ]
  },
  {
   "cell_type": "code",
   "execution_count": 22,
   "id": "7767eef5",
   "metadata": {},
   "outputs": [
    {
     "data": {
      "text/plain": [
       "29"
      ]
     },
     "execution_count": 22,
     "metadata": {},
     "output_type": "execute_result"
    }
   ],
   "source": [
    "age"
   ]
  },
  {
   "cell_type": "code",
   "execution_count": 23,
   "id": "7c040863",
   "metadata": {},
   "outputs": [],
   "source": [
    "asd = age + 1"
   ]
  },
  {
   "cell_type": "code",
   "execution_count": 24,
   "id": "fd3997d0",
   "metadata": {},
   "outputs": [
    {
     "data": {
      "text/plain": [
       "30"
      ]
     },
     "execution_count": 24,
     "metadata": {},
     "output_type": "execute_result"
    }
   ],
   "source": [
    "asd"
   ]
  },
  {
   "cell_type": "code",
   "execution_count": 25,
   "id": "6186d5de",
   "metadata": {},
   "outputs": [],
   "source": [
    "my_first_name = \"Daniele\""
   ]
  },
  {
   "cell_type": "code",
   "execution_count": 26,
   "id": "c843fe4c",
   "metadata": {},
   "outputs": [
    {
     "data": {
      "text/plain": [
       "'Daniele'"
      ]
     },
     "execution_count": 26,
     "metadata": {},
     "output_type": "execute_result"
    }
   ],
   "source": [
    "my_first_name\n"
   ]
  },
  {
   "cell_type": "code",
   "execution_count": 30,
   "id": "59d7f3d2",
   "metadata": {},
   "outputs": [],
   "source": [
    "price = 12\n",
    "name_product = \"palla\"\n",
    "vat = 3\n",
    "tot_price = vat + price"
   ]
  },
  {
   "cell_type": "code",
   "execution_count": 33,
   "id": "419832e8",
   "metadata": {},
   "outputs": [
    {
     "data": {
      "text/plain": [
       "15"
      ]
     },
     "execution_count": 33,
     "metadata": {},
     "output_type": "execute_result"
    }
   ],
   "source": [
    "tot_price"
   ]
  },
  {
   "cell_type": "code",
   "execution_count": 34,
   "id": "0908aee1",
   "metadata": {},
   "outputs": [],
   "source": [
    "frase = \"how many charachters do we have here?\""
   ]
  },
  {
   "cell_type": "code",
   "execution_count": 37,
   "id": "d75c88e9",
   "metadata": {},
   "outputs": [
    {
     "data": {
      "text/plain": [
       "37"
      ]
     },
     "execution_count": 37,
     "metadata": {},
     "output_type": "execute_result"
    }
   ],
   "source": [
    "len(frase) # length of the string"
   ]
  },
  {
   "cell_type": "code",
   "execution_count": 38,
   "id": "b92979c2",
   "metadata": {},
   "outputs": [
    {
     "data": {
      "text/plain": [
       "'12'"
      ]
     },
     "execution_count": 38,
     "metadata": {},
     "output_type": "execute_result"
    }
   ],
   "source": [
    "str(12) # stringify"
   ]
  },
  {
   "cell_type": "code",
   "execution_count": 39,
   "id": "14498115",
   "metadata": {},
   "outputs": [
    {
     "data": {
      "text/plain": [
       "10"
      ]
     },
     "execution_count": 39,
     "metadata": {},
     "output_type": "execute_result"
    }
   ],
   "source": [
    "int(\"10\") # make it an integer"
   ]
  },
  {
   "cell_type": "code",
   "execution_count": 11,
   "id": "65ff17ac",
   "metadata": {},
   "outputs": [
    {
     "data": {
      "text/plain": [
       "56.0"
      ]
     },
     "execution_count": 11,
     "metadata": {},
     "output_type": "execute_result"
    }
   ],
   "source": [
    "float(56)  # make the integer a float"
   ]
  },
  {
   "cell_type": "code",
   "execution_count": 41,
   "id": "7872af2e",
   "metadata": {},
   "outputs": [
    {
     "data": {
      "text/plain": [
       "True"
      ]
     },
     "execution_count": 41,
     "metadata": {},
     "output_type": "execute_result"
    }
   ],
   "source": [
    "type(\"12\") == type(\"gato\")   "
   ]
  },
  {
   "cell_type": "code",
   "execution_count": null,
   "id": "ce52e4e7",
   "metadata": {},
   "outputs": [],
   "source": [
    "# FUNCTIONS"
   ]
  },
  {
   "cell_type": "code",
   "execution_count": 42,
   "id": "58760bc1",
   "metadata": {},
   "outputs": [],
   "source": [
    "def convert_to_farenheit(celsius_temp):\n",
    "    product = celsius_temp * 1.8\n",
    "    return product + 32"
   ]
  },
  {
   "cell_type": "code",
   "execution_count": 43,
   "id": "71ebca0b",
   "metadata": {},
   "outputs": [
    {
     "data": {
      "text/plain": [
       "50.0"
      ]
     },
     "execution_count": 43,
     "metadata": {},
     "output_type": "execute_result"
    }
   ],
   "source": [
    "convert_to_farenheit(10)"
   ]
  },
  {
   "cell_type": "code",
   "execution_count": 45,
   "id": "afc47c25",
   "metadata": {},
   "outputs": [],
   "source": [
    "summer_temp = convert_to_farenheit(30)\n",
    "winter_temp = convert_to_farenheit(5)"
   ]
  },
  {
   "cell_type": "code",
   "execution_count": 46,
   "id": "941b631b",
   "metadata": {},
   "outputs": [
    {
     "data": {
      "text/plain": [
       "86.0"
      ]
     },
     "execution_count": 46,
     "metadata": {},
     "output_type": "execute_result"
    }
   ],
   "source": [
    "summer_temp"
   ]
  },
  {
   "cell_type": "code",
   "execution_count": 47,
   "id": "56820e93",
   "metadata": {},
   "outputs": [
    {
     "data": {
      "text/plain": [
       "127.0"
      ]
     },
     "execution_count": 47,
     "metadata": {},
     "output_type": "execute_result"
    }
   ],
   "source": [
    "summer_temp + winter_temp"
   ]
  },
  {
   "cell_type": "code",
   "execution_count": 14,
   "id": "b929057e",
   "metadata": {},
   "outputs": [],
   "source": [
    "def check_inheritance_tax(inheritance):\n",
    "    amount_tax = inheritance * 0.028\n",
    "    return amount_tax"
   ]
  },
  {
   "cell_type": "code",
   "execution_count": 15,
   "id": "6274d9d4",
   "metadata": {},
   "outputs": [
    {
     "data": {
      "text/plain": [
       "8400.0"
      ]
     },
     "execution_count": 15,
     "metadata": {},
     "output_type": "execute_result"
    }
   ],
   "source": [
    "check_inheritance_tax(300000)"
   ]
  },
  {
   "cell_type": "code",
   "execution_count": null,
   "id": "7bbd1722",
   "metadata": {},
   "outputs": [],
   "source": []
  },
  {
   "cell_type": "code",
   "execution_count": null,
   "id": "b9565611",
   "metadata": {},
   "outputs": [],
   "source": [
    "# STRING METHODS"
   ]
  },
  {
   "cell_type": "code",
   "execution_count": 51,
   "id": "6c649950",
   "metadata": {},
   "outputs": [],
   "source": [
    "profession = \"project manager\""
   ]
  },
  {
   "cell_type": "code",
   "execution_count": 52,
   "id": "043f8bbd",
   "metadata": {},
   "outputs": [
    {
     "data": {
      "text/plain": [
       "'PROJECT MANAGER'"
      ]
     },
     "execution_count": 52,
     "metadata": {},
     "output_type": "execute_result"
    }
   ],
   "source": [
    "profession.upper()"
   ]
  },
  {
   "cell_type": "code",
   "execution_count": 53,
   "id": "c0c21cf6",
   "metadata": {},
   "outputs": [
    {
     "data": {
      "text/plain": [
       "'project manager'"
      ]
     },
     "execution_count": 53,
     "metadata": {},
     "output_type": "execute_result"
    }
   ],
   "source": [
    "profession"
   ]
  },
  {
   "cell_type": "code",
   "execution_count": 56,
   "id": "23c1e818",
   "metadata": {},
   "outputs": [],
   "source": [
    "name = \"daniele esposito\""
   ]
  },
  {
   "cell_type": "code",
   "execution_count": 57,
   "id": "b73e08fa",
   "metadata": {},
   "outputs": [
    {
     "data": {
      "text/plain": [
       "'Daniele Esposito'"
      ]
     },
     "execution_count": 57,
     "metadata": {},
     "output_type": "execute_result"
    }
   ],
   "source": [
    "name.title()"
   ]
  },
  {
   "cell_type": "code",
   "execution_count": 17,
   "id": "7a979707",
   "metadata": {},
   "outputs": [],
   "source": [
    "spacing_name = \" Department \"\n",
    "\n"
   ]
  },
  {
   "cell_type": "code",
   "execution_count": 59,
   "id": "70ea09d0",
   "metadata": {},
   "outputs": [
    {
     "data": {
      "text/plain": [
       "'Department '"
      ]
     },
     "execution_count": 59,
     "metadata": {},
     "output_type": "execute_result"
    }
   ],
   "source": [
    "spacing_name.lstrip()"
   ]
  },
  {
   "cell_type": "code",
   "execution_count": 61,
   "id": "2f0b7fdb",
   "metadata": {},
   "outputs": [
    {
     "data": {
      "text/plain": [
       "' Department'"
      ]
     },
     "execution_count": 61,
     "metadata": {},
     "output_type": "execute_result"
    }
   ],
   "source": [
    "spacing_name.rstrip()"
   ]
  },
  {
   "cell_type": "code",
   "execution_count": 18,
   "id": "bf2ec38a",
   "metadata": {},
   "outputs": [
    {
     "data": {
      "text/plain": [
       "'Department'"
      ]
     },
     "execution_count": 18,
     "metadata": {},
     "output_type": "execute_result"
    }
   ],
   "source": [
    "spacing_name.strip()  # eliminate spacing left and right"
   ]
  },
  {
   "cell_type": "code",
   "execution_count": 63,
   "id": "12a45cd6",
   "metadata": {},
   "outputs": [
    {
     "data": {
      "text/plain": [
       "'D*partm*nt'"
      ]
     },
     "execution_count": 63,
     "metadata": {},
     "output_type": "execute_result"
    }
   ],
   "source": [
    "spacing_name.strip().replace(\"e\",\"*\")"
   ]
  },
  {
   "cell_type": "code",
   "execution_count": 67,
   "id": "20a0aca0",
   "metadata": {},
   "outputs": [],
   "source": [
    "email = \"email@email.com\""
   ]
  },
  {
   "cell_type": "code",
   "execution_count": 68,
   "id": "e30fc232",
   "metadata": {},
   "outputs": [
    {
     "data": {
      "text/plain": [
       "False"
      ]
     },
     "execution_count": 68,
     "metadata": {},
     "output_type": "execute_result"
    }
   ],
   "source": [
    "email.endswith(\".de\")"
   ]
  },
  {
   "cell_type": "code",
   "execution_count": 69,
   "id": "c30c479c",
   "metadata": {},
   "outputs": [
    {
     "data": {
      "text/plain": [
       "True"
      ]
     },
     "execution_count": 69,
     "metadata": {},
     "output_type": "execute_result"
    }
   ],
   "source": [
    "email.endswith(\".com\")"
   ]
  },
  {
   "cell_type": "code",
   "execution_count": 70,
   "id": "5593d5cb",
   "metadata": {},
   "outputs": [
    {
     "data": {
      "text/plain": [
       "True"
      ]
     },
     "execution_count": 70,
     "metadata": {},
     "output_type": "execute_result"
    }
   ],
   "source": [
    "\"@\" in email"
   ]
  },
  {
   "cell_type": "code",
   "execution_count": 71,
   "id": "3fb21972",
   "metadata": {},
   "outputs": [],
   "source": [
    "string = \"caio\""
   ]
  },
  {
   "cell_type": "code",
   "execution_count": 72,
   "id": "b301ecf5",
   "metadata": {},
   "outputs": [
    {
     "data": {
      "text/plain": [
       "'Caio'"
      ]
     },
     "execution_count": 72,
     "metadata": {},
     "output_type": "execute_result"
    }
   ],
   "source": [
    "string.capitalize()"
   ]
  },
  {
   "cell_type": "code",
   "execution_count": null,
   "id": "fb71f8f2",
   "metadata": {},
   "outputs": [],
   "source": [
    "# LISTS"
   ]
  },
  {
   "cell_type": "code",
   "execution_count": null,
   "id": "5b799354",
   "metadata": {},
   "outputs": [],
   "source": [
    "[1, 2, 3, 4]"
   ]
  },
  {
   "cell_type": "code",
   "execution_count": 73,
   "id": "a5851d8b",
   "metadata": {},
   "outputs": [],
   "source": [
    "party_attendees = [\"Michael\", \"Freddy\", \"Jason\"]"
   ]
  },
  {
   "cell_type": "code",
   "execution_count": 74,
   "id": "1fd2e925",
   "metadata": {},
   "outputs": [
    {
     "data": {
      "text/plain": [
       "3"
      ]
     },
     "execution_count": 74,
     "metadata": {},
     "output_type": "execute_result"
    }
   ],
   "source": [
    "len(party_attendees)"
   ]
  },
  {
   "cell_type": "code",
   "execution_count": 75,
   "id": "ca53b1a8",
   "metadata": {},
   "outputs": [
    {
     "data": {
      "text/plain": [
       "list"
      ]
     },
     "execution_count": 75,
     "metadata": {},
     "output_type": "execute_result"
    }
   ],
   "source": [
    "type(party_attendees)"
   ]
  },
  {
   "cell_type": "code",
   "execution_count": 76,
   "id": "beb8762c",
   "metadata": {},
   "outputs": [],
   "source": [
    "presidents = [\"Whasington\", \"Jefferson\"]"
   ]
  },
  {
   "cell_type": "code",
   "execution_count": 78,
   "id": "19a4f5c9",
   "metadata": {},
   "outputs": [],
   "source": [
    "presidents.append(\"Daniele\")"
   ]
  },
  {
   "cell_type": "code",
   "execution_count": 79,
   "id": "05146e0e",
   "metadata": {},
   "outputs": [
    {
     "data": {
      "text/plain": [
       "['Whasington', 'Jefferson', 'Daniele', 'Daniele']"
      ]
     },
     "execution_count": 79,
     "metadata": {},
     "output_type": "execute_result"
    }
   ],
   "source": [
    "presidents"
   ]
  },
  {
   "cell_type": "code",
   "execution_count": 80,
   "id": "74985d8f",
   "metadata": {},
   "outputs": [
    {
     "data": {
      "text/plain": [
       "['Whasington', 'Jefferson', 'Daniele', 'Daniele']"
      ]
     },
     "execution_count": 80,
     "metadata": {},
     "output_type": "execute_result"
    }
   ],
   "source": [
    "presidents"
   ]
  },
  {
   "cell_type": "code",
   "execution_count": 81,
   "id": "f75b75e5",
   "metadata": {},
   "outputs": [],
   "source": [
    "party_attendees.append(\"Mike\")"
   ]
  },
  {
   "cell_type": "code",
   "execution_count": 82,
   "id": "55a389d8",
   "metadata": {},
   "outputs": [
    {
     "data": {
      "text/plain": [
       "['Michael', 'Freddy', 'Jason', 'Mike']"
      ]
     },
     "execution_count": 82,
     "metadata": {},
     "output_type": "execute_result"
    }
   ],
   "source": [
    "party_attendees"
   ]
  },
  {
   "cell_type": "code",
   "execution_count": 19,
   "id": "0475670c",
   "metadata": {},
   "outputs": [],
   "source": [
    "lista_regalo = [\"Palmi\", \"Daniele\"]"
   ]
  },
  {
   "cell_type": "code",
   "execution_count": 20,
   "id": "56da4852",
   "metadata": {},
   "outputs": [],
   "source": [
    "lista_regalo.append(\"Met\")"
   ]
  },
  {
   "cell_type": "code",
   "execution_count": 21,
   "id": "dc142823",
   "metadata": {},
   "outputs": [
    {
     "data": {
      "text/plain": [
       "['Palmi', 'Daniele', 'Met']"
      ]
     },
     "execution_count": 21,
     "metadata": {},
     "output_type": "execute_result"
    }
   ],
   "source": [
    "lista_regalo"
   ]
  },
  {
   "cell_type": "code",
   "execution_count": 83,
   "id": "5da9f417",
   "metadata": {},
   "outputs": [],
   "source": [
    "popcorn = [\"Salted\", \"Unsalted\", \"Caramel\"]"
   ]
  },
  {
   "cell_type": "code",
   "execution_count": null,
   "id": "ac935d11",
   "metadata": {},
   "outputs": [],
   "source": [
    "popcorn.pop() # Delete the last one on the right"
   ]
  },
  {
   "cell_type": "code",
   "execution_count": null,
   "id": "0e2f6a5f",
   "metadata": {},
   "outputs": [],
   "source": [
    "popcorn.remove() # Delete the fist value from the left"
   ]
  },
  {
   "cell_type": "code",
   "execution_count": 84,
   "id": "0e9b6276",
   "metadata": {},
   "outputs": [
    {
     "data": {
      "text/plain": [
       "'Daniele'"
      ]
     },
     "execution_count": 84,
     "metadata": {},
     "output_type": "execute_result"
    }
   ],
   "source": [
    "presidents.pop()"
   ]
  },
  {
   "cell_type": "code",
   "execution_count": 85,
   "id": "5fae542f",
   "metadata": {},
   "outputs": [
    {
     "data": {
      "text/plain": [
       "['Whasington', 'Jefferson', 'Daniele']"
      ]
     },
     "execution_count": 85,
     "metadata": {},
     "output_type": "execute_result"
    }
   ],
   "source": [
    "presidents"
   ]
  },
  {
   "cell_type": "code",
   "execution_count": 86,
   "id": "c669862e",
   "metadata": {},
   "outputs": [],
   "source": [
    "presidents.remove(\"Jefferson\")"
   ]
  },
  {
   "cell_type": "code",
   "execution_count": 87,
   "id": "af8d9962",
   "metadata": {},
   "outputs": [
    {
     "data": {
      "text/plain": [
       "['Whasington', 'Daniele']"
      ]
     },
     "execution_count": 87,
     "metadata": {},
     "output_type": "execute_result"
    }
   ],
   "source": [
    "presidents"
   ]
  },
  {
   "cell_type": "code",
   "execution_count": 89,
   "id": "79bf7d4c",
   "metadata": {},
   "outputs": [],
   "source": [
    "popcorn.remove(\"Unsalted\")"
   ]
  },
  {
   "cell_type": "code",
   "execution_count": 90,
   "id": "aa5971ad",
   "metadata": {},
   "outputs": [
    {
     "data": {
      "text/plain": [
       "['Salted', 'Caramel']"
      ]
     },
     "execution_count": 90,
     "metadata": {},
     "output_type": "execute_result"
    }
   ],
   "source": [
    "popcorn"
   ]
  },
  {
   "cell_type": "code",
   "execution_count": 91,
   "id": "437b9c3e",
   "metadata": {},
   "outputs": [],
   "source": [
    "spiderman = \"Spiderman\""
   ]
  },
  {
   "cell_type": "code",
   "execution_count": null,
   "id": "035b6769",
   "metadata": {},
   "outputs": [],
   "source": []
  },
  {
   "cell_type": "code",
   "execution_count": 92,
   "id": "a2360ec2",
   "metadata": {},
   "outputs": [
    {
     "data": {
      "text/plain": [
       "'i'"
      ]
     },
     "execution_count": 92,
     "metadata": {},
     "output_type": "execute_result"
    }
   ],
   "source": [
    "spiderman[2]"
   ]
  },
  {
   "cell_type": "code",
   "execution_count": 93,
   "id": "a08bb832",
   "metadata": {},
   "outputs": [
    {
     "data": {
      "text/plain": [
       "'a'"
      ]
     },
     "execution_count": 93,
     "metadata": {},
     "output_type": "execute_result"
    }
   ],
   "source": [
    "spiderman[-2]"
   ]
  },
  {
   "cell_type": "code",
   "execution_count": 94,
   "id": "6bc85d39",
   "metadata": {},
   "outputs": [],
   "source": [
    "superheros = [\"Batman\", \"Superman\", \"Wolverine\", \"Ironman\" ]"
   ]
  },
  {
   "cell_type": "code",
   "execution_count": 95,
   "id": "4957603c",
   "metadata": {},
   "outputs": [
    {
     "data": {
      "text/plain": [
       "4"
      ]
     },
     "execution_count": 95,
     "metadata": {},
     "output_type": "execute_result"
    }
   ],
   "source": [
    "len(superheros)"
   ]
  },
  {
   "cell_type": "code",
   "execution_count": 97,
   "id": "de54c414",
   "metadata": {},
   "outputs": [
    {
     "data": {
      "text/plain": [
       "'Wolverine'"
      ]
     },
     "execution_count": 97,
     "metadata": {},
     "output_type": "execute_result"
    }
   ],
   "source": [
    "superheros[1]\n",
    "superheros[-2]"
   ]
  },
  {
   "cell_type": "code",
   "execution_count": 99,
   "id": "76134802",
   "metadata": {},
   "outputs": [
    {
     "data": {
      "text/plain": [
       "['Wolverine', 'Ironman']"
      ]
     },
     "execution_count": 99,
     "metadata": {},
     "output_type": "execute_result"
    }
   ],
   "source": [
    "superheros[2:4]"
   ]
  },
  {
   "cell_type": "code",
   "execution_count": 100,
   "id": "b32a058e",
   "metadata": {},
   "outputs": [
    {
     "data": {
      "text/plain": [
       "'pi'"
      ]
     },
     "execution_count": 100,
     "metadata": {},
     "output_type": "execute_result"
    }
   ],
   "source": [
    "spiderman[1:3]"
   ]
  },
  {
   "cell_type": "code",
   "execution_count": 101,
   "id": "d4fc6003",
   "metadata": {},
   "outputs": [
    {
     "data": {
      "text/plain": [
       "['Batman', 'Superman']"
      ]
     },
     "execution_count": 101,
     "metadata": {},
     "output_type": "execute_result"
    }
   ],
   "source": [
    "superheros[:2]"
   ]
  },
  {
   "cell_type": "code",
   "execution_count": 102,
   "id": "4bef213c",
   "metadata": {},
   "outputs": [
    {
     "data": {
      "text/plain": [
       "['Ironman']"
      ]
     },
     "execution_count": 102,
     "metadata": {},
     "output_type": "execute_result"
    }
   ],
   "source": [
    "superheros[3:7]"
   ]
  },
  {
   "cell_type": "code",
   "execution_count": null,
   "id": "635d31f9",
   "metadata": {},
   "outputs": [],
   "source": [
    "# extract the last elements of a list or letters of a string (prendi le desinenze delle parole)"
   ]
  },
  {
   "cell_type": "code",
   "execution_count": 103,
   "id": "70b1b817",
   "metadata": {},
   "outputs": [
    {
     "data": {
      "text/plain": [
       "['Superman', 'Wolverine', 'Ironman']"
      ]
     },
     "execution_count": 103,
     "metadata": {},
     "output_type": "execute_result"
    }
   ],
   "source": [
    "superheros[1:]"
   ]
  },
  {
   "cell_type": "code",
   "execution_count": 108,
   "id": "10a31c79",
   "metadata": {},
   "outputs": [
    {
     "data": {
      "text/plain": [
       "'man'"
      ]
     },
     "execution_count": 108,
     "metadata": {},
     "output_type": "execute_result"
    }
   ],
   "source": [
    "spiderman[-3:]"
   ]
  },
  {
   "cell_type": "code",
   "execution_count": null,
   "id": "58b04fb9",
   "metadata": {},
   "outputs": [],
   "source": [
    "# DICTIONARIES (unordered Objects: key - value pairs)"
   ]
  },
  {
   "cell_type": "code",
   "execution_count": 110,
   "id": "834215ba",
   "metadata": {},
   "outputs": [],
   "source": [
    "menu = {\n",
    "    \"Filet Mignon\": 29.99,\n",
    "    \"Big Mac\": 3.99,\n",
    "    \"Pizza\": 0.99,\n",
    "    \"Salmon\": 29.99\n",
    "}"
   ]
  },
  {
   "cell_type": "code",
   "execution_count": 111,
   "id": "f2542803",
   "metadata": {},
   "outputs": [
    {
     "data": {
      "text/plain": [
       "{'Filet Mignon': 29.99, 'Big Mac': 3.99, 'Pizza': 0.99, 'Salmon': 29.99}"
      ]
     },
     "execution_count": 111,
     "metadata": {},
     "output_type": "execute_result"
    }
   ],
   "source": [
    "menu"
   ]
  },
  {
   "cell_type": "code",
   "execution_count": 112,
   "id": "dcc0de58",
   "metadata": {},
   "outputs": [
    {
     "data": {
      "text/plain": [
       "4"
      ]
     },
     "execution_count": 112,
     "metadata": {},
     "output_type": "execute_result"
    }
   ],
   "source": [
    "len(menu)"
   ]
  },
  {
   "cell_type": "code",
   "execution_count": 113,
   "id": "7fd25c11",
   "metadata": {},
   "outputs": [
    {
     "data": {
      "text/plain": [
       "3.99"
      ]
     },
     "execution_count": 113,
     "metadata": {},
     "output_type": "execute_result"
    }
   ],
   "source": [
    "menu[\"Big Mac\"]"
   ]
  },
  {
   "cell_type": "code",
   "execution_count": 114,
   "id": "8b7898e0",
   "metadata": {},
   "outputs": [],
   "source": [
    "menu[\"Burrito\"] = 13.99"
   ]
  },
  {
   "cell_type": "code",
   "execution_count": 115,
   "id": "bbfd37e7",
   "metadata": {},
   "outputs": [
    {
     "data": {
      "text/plain": [
       "{'Filet Mignon': 29.99,\n",
       " 'Big Mac': 3.99,\n",
       " 'Pizza': 0.99,\n",
       " 'Salmon': 29.99,\n",
       " 'Burrito': 13.99}"
      ]
     },
     "execution_count": 115,
     "metadata": {},
     "output_type": "execute_result"
    }
   ],
   "source": [
    "menu"
   ]
  },
  {
   "cell_type": "code",
   "execution_count": 116,
   "id": "d26e48a9",
   "metadata": {},
   "outputs": [],
   "source": [
    "menu[\"Big Mac\"] = 5.99"
   ]
  },
  {
   "cell_type": "code",
   "execution_count": 117,
   "id": "e15e3e0b",
   "metadata": {},
   "outputs": [
    {
     "data": {
      "text/plain": [
       "{'Filet Mignon': 29.99,\n",
       " 'Big Mac': 5.99,\n",
       " 'Pizza': 0.99,\n",
       " 'Salmon': 29.99,\n",
       " 'Burrito': 13.99}"
      ]
     },
     "execution_count": 117,
     "metadata": {},
     "output_type": "execute_result"
    }
   ],
   "source": [
    "menu"
   ]
  },
  {
   "cell_type": "code",
   "execution_count": 118,
   "id": "6f48abef",
   "metadata": {},
   "outputs": [
    {
     "data": {
      "text/plain": [
       "29.99"
      ]
     },
     "execution_count": 118,
     "metadata": {},
     "output_type": "execute_result"
    }
   ],
   "source": [
    "menu.pop(\"Filet Mignon\")"
   ]
  },
  {
   "cell_type": "code",
   "execution_count": 119,
   "id": "f6361afc",
   "metadata": {},
   "outputs": [
    {
     "data": {
      "text/plain": [
       "{'Big Mac': 5.99, 'Pizza': 0.99, 'Salmon': 29.99, 'Burrito': 13.99}"
      ]
     },
     "execution_count": 119,
     "metadata": {},
     "output_type": "execute_result"
    }
   ],
   "source": [
    "menu"
   ]
  },
  {
   "cell_type": "code",
   "execution_count": 120,
   "id": "86869a72",
   "metadata": {},
   "outputs": [
    {
     "data": {
      "text/plain": [
       "True"
      ]
     },
     "execution_count": 120,
     "metadata": {},
     "output_type": "execute_result"
    }
   ],
   "source": [
    "\"Pizza\" in menu"
   ]
  },
  {
   "cell_type": "code",
   "execution_count": 121,
   "id": "d384431b",
   "metadata": {},
   "outputs": [
    {
     "data": {
      "text/plain": [
       "False"
      ]
     },
     "execution_count": 121,
     "metadata": {},
     "output_type": "execute_result"
    }
   ],
   "source": [
    "0.99 in menu"
   ]
  },
  {
   "cell_type": "code",
   "execution_count": 122,
   "id": "4bda1f5b",
   "metadata": {},
   "outputs": [
    {
     "data": {
      "text/plain": [
       "dict_values([5.99, 0.99, 29.99, 13.99])"
      ]
     },
     "execution_count": 122,
     "metadata": {},
     "output_type": "execute_result"
    }
   ],
   "source": [
    "menu.values()"
   ]
  },
  {
   "cell_type": "code",
   "execution_count": 123,
   "id": "5d40326f",
   "metadata": {},
   "outputs": [
    {
     "data": {
      "text/plain": [
       "True"
      ]
     },
     "execution_count": 123,
     "metadata": {},
     "output_type": "execute_result"
    }
   ],
   "source": [
    "0.99 in menu.values()"
   ]
  },
  {
   "cell_type": "code",
   "execution_count": null,
   "id": "1aa3ed1c",
   "metadata": {},
   "outputs": [],
   "source": [
    "!pip install jupyter"
   ]
  },
  {
   "cell_type": "code",
   "execution_count": 22,
   "id": "bce5951b",
   "metadata": {},
   "outputs": [],
   "source": [
    "holidays_places = {\n",
    "    \"Italy\" : 1200,\n",
    "    \"Germany\" : 1100,\n",
    "    \"Greece\" : 750\n",
    "}"
   ]
  },
  {
   "cell_type": "code",
   "execution_count": 23,
   "id": "3c3dd77f",
   "metadata": {},
   "outputs": [
    {
     "data": {
      "text/plain": [
       "{'Italy': 1200, 'Germany': 1100, 'Greece': 750}"
      ]
     },
     "execution_count": 23,
     "metadata": {},
     "output_type": "execute_result"
    }
   ],
   "source": [
    "holidays_places"
   ]
  },
  {
   "cell_type": "code",
   "execution_count": 24,
   "id": "c0a21dd5",
   "metadata": {},
   "outputs": [],
   "source": [
    "holidays_places[\"Spain\"] = 950"
   ]
  },
  {
   "cell_type": "code",
   "execution_count": 25,
   "id": "6d300b05",
   "metadata": {},
   "outputs": [
    {
     "data": {
      "text/plain": [
       "{'Italy': 1200, 'Germany': 1100, 'Greece': 750, 'Spain': 950}"
      ]
     },
     "execution_count": 25,
     "metadata": {},
     "output_type": "execute_result"
    }
   ],
   "source": [
    "holidays_places"
   ]
  },
  {
   "cell_type": "code",
   "execution_count": null,
   "id": "821166c5",
   "metadata": {},
   "outputs": [],
   "source": []
  },
  {
   "cell_type": "code",
   "execution_count": null,
   "id": "749809a8",
   "metadata": {},
   "outputs": [],
   "source": []
  },
  {
   "cell_type": "code",
   "execution_count": null,
   "id": "ff465907",
   "metadata": {},
   "outputs": [],
   "source": []
  },
  {
   "cell_type": "code",
   "execution_count": null,
   "id": "a707f070",
   "metadata": {},
   "outputs": [],
   "source": []
  },
  {
   "cell_type": "code",
   "execution_count": null,
   "id": "a1e437f2",
   "metadata": {},
   "outputs": [],
   "source": []
  },
  {
   "cell_type": "code",
   "execution_count": null,
   "id": "ff9e8530",
   "metadata": {},
   "outputs": [],
   "source": []
  },
  {
   "cell_type": "code",
   "execution_count": null,
   "id": "29c632f3",
   "metadata": {},
   "outputs": [],
   "source": []
  },
  {
   "cell_type": "code",
   "execution_count": null,
   "id": "58f8f4e9",
   "metadata": {},
   "outputs": [],
   "source": []
  },
  {
   "cell_type": "code",
   "execution_count": null,
   "id": "1a13d25d",
   "metadata": {},
   "outputs": [],
   "source": []
  }
 ],
 "metadata": {
  "kernelspec": {
   "display_name": "Python 3 (ipykernel)",
   "language": "python",
   "name": "python3"
  },
  "language_info": {
   "codemirror_mode": {
    "name": "ipython",
    "version": 3
   },
   "file_extension": ".py",
   "mimetype": "text/x-python",
   "name": "python",
   "nbconvert_exporter": "python",
   "pygments_lexer": "ipython3",
   "version": "3.9.12"
  }
 },
 "nbformat": 4,
 "nbformat_minor": 5
}
